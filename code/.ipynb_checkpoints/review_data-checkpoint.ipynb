{
 "cells": [
  {
   "cell_type": "code",
   "execution_count": 1,
   "metadata": {
    "collapsed": true
   },
   "outputs": [],
   "source": [
    "import numpy as np\n",
    "import pandas as pd\n",
    "import scipy as sp\n",
    "import matplotlib.pyplot as plt\n",
    "\n",
    "%matplotlib inline"
   ]
  },
  {
   "cell_type": "code",
   "execution_count": 3,
   "metadata": {},
   "outputs": [],
   "source": [
    "df_train_voice = pd.read_csv('../data/train/voice_train.txt',sep='\\t',low_memory=False)\n",
    "df_train_sms = pd.read_csv('../data/train/sms_train.txt',sep='\\t',low_memory=False)\n",
    "df_train_wa = pd.read_csv('../data/train/wa_train.txt',sep='\\t',low_memory=False)\n",
    "df_train_label = pd.read_csv('../data/train/uid_train.txt',sep='\\t',low_memory=False)\n"
   ]
  },
  {
   "cell_type": "code",
   "execution_count": 4,
   "metadata": {},
   "outputs": [
    {
     "name": "stdout",
     "output_type": "stream",
     "text": [
      "<class 'pandas.core.frame.DataFrame'>\n",
      "RangeIndex: 1150778 entries, 0 to 1150777\n",
      "Data columns (total 8 columns):\n",
      "uid           1150778 non-null object\n",
      "opp_num       1150778 non-null object\n",
      "opp_head      1150778 non-null object\n",
      "opp_len       1150778 non-null int64\n",
      "start_time    1150778 non-null int64\n",
      "end_time      1150778 non-null int64\n",
      "call_type     1150778 non-null int64\n",
      "in_out        1150778 non-null int64\n",
      "dtypes: int64(5), object(3)\n",
      "memory usage: 70.2+ MB\n"
     ]
    }
   ],
   "source": [
    "df_train_voice.head()\n",
    "df_train_voice.info()"
   ]
  },
  {
   "cell_type": "code",
   "execution_count": 5,
   "metadata": {},
   "outputs": [
    {
     "name": "stdout",
     "output_type": "stream",
     "text": [
      "<class 'pandas.core.frame.DataFrame'>\n",
      "RangeIndex: 302976 entries, 0 to 302975\n",
      "Data columns (total 6 columns):\n",
      "uid           302976 non-null object\n",
      "opp_num       302976 non-null object\n",
      "opp_head      302976 non-null int64\n",
      "opp_len       302976 non-null int64\n",
      "start_time    302976 non-null int64\n",
      "in_out        302976 non-null int64\n",
      "dtypes: int64(4), object(2)\n",
      "memory usage: 13.9+ MB\n"
     ]
    }
   ],
   "source": [
    "df_train_sms.head()\n",
    "df_train_sms.info()"
   ]
  },
  {
   "cell_type": "code",
   "execution_count": 6,
   "metadata": {},
   "outputs": [
    {
     "name": "stdout",
     "output_type": "stream",
     "text": [
      "<class 'pandas.core.frame.DataFrame'>\n",
      "RangeIndex: 4808343 entries, 0 to 4808342\n",
      "Data columns (total 8 columns):\n",
      "uid           object\n",
      "wa_name       object\n",
      "visit_cnt     float64\n",
      "visit_dura    float64\n",
      "up_flow       float64\n",
      "down_flow     float64\n",
      "wa_type       float64\n",
      "date          float64\n",
      "dtypes: float64(6), object(2)\n",
      "memory usage: 293.5+ MB\n"
     ]
    }
   ],
   "source": [
    "df_train_wa.head()\n",
    "df_train_wa.info()"
   ]
  },
  {
   "cell_type": "code",
   "execution_count": 7,
   "metadata": {},
   "outputs": [
    {
     "data": {
      "text/plain": [
       "0    4099\n",
       "1     900\n",
       "Name: label, dtype: int64"
      ]
     },
     "execution_count": 7,
     "metadata": {},
     "output_type": "execute_result"
    }
   ],
   "source": [
    "df_train_label.head()\n",
    "\n",
    "df_train_label['label'].value_counts()"
   ]
  },
  {
   "cell_type": "code",
   "execution_count": null,
   "metadata": {
    "collapsed": true
   },
   "outputs": [],
   "source": [
    "\n"
   ]
  }
 ],
 "metadata": {
  "kernelspec": {
   "display_name": "Python 2",
   "language": "python",
   "name": "python2"
  },
  "language_info": {
   "codemirror_mode": {
    "name": "ipython",
    "version": 2
   },
   "file_extension": ".py",
   "mimetype": "text/x-python",
   "name": "python",
   "nbconvert_exporter": "python",
   "pygments_lexer": "ipython2",
   "version": "2.7.13"
  }
 },
 "nbformat": 4,
 "nbformat_minor": 2
}
