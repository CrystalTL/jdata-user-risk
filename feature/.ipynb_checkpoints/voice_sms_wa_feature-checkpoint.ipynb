{
 "cells": [
  {
   "cell_type": "code",
   "execution_count": 1,
   "metadata": {
    "collapsed": true
   },
   "outputs": [],
   "source": [
    "import pandas as pd\n",
    "import numpy as np"
   ]
  },
  {
   "cell_type": "markdown",
   "metadata": {},
   "source": [
    "## voice sms wa 特征合并\n",
    "1. 强强组合\n",
    "2. 相应的特征就差值和乘机或者比例，或者最大值\n",
    "3. 两两组合，三个组合\n"
   ]
  },
  {
   "cell_type": "code",
   "execution_count": 2,
   "metadata": {
    "collapsed": true
   },
   "outputs": [],
   "source": [
    "df_train_voice = pd.read_csv('../xdata/df_train_voice_feat.csv')\n",
    "df_train_sms = pd.read_csv('../xdata/df_train_sms_feat.csv')\n",
    "df_train_wa = pd.read_csv('../xdata/df_train_wa_feat.csv')\n"
   ]
  },
  {
   "cell_type": "code",
   "execution_count": 51,
   "metadata": {
    "collapsed": true
   },
   "outputs": [],
   "source": [
    "df_testB_voice = pd.read_csv('../xdata/df_testB_voice_feat.csv')\n",
    "df_testB_sms = pd.read_csv('../xdata/df_testB_sms_feat.csv')\n",
    "df_testB_wa = pd.read_csv('../xdata/df_testB_wa_feat.csv')\n"
   ]
  },
  {
   "cell_type": "code",
   "execution_count": 52,
   "metadata": {
    "collapsed": true
   },
   "outputs": [],
   "source": [
    "df_testA_voice = pd.read_csv('../xdata/df_testA_voice_feat.csv')\n",
    "df_testA_sms = pd.read_csv('../xdata/df_testA_sms_feat.csv')\n",
    "df_testA_wa = pd.read_csv('../xdata/df_testA_wa_feat.csv')\n"
   ]
  },
  {
   "cell_type": "code",
   "execution_count": 53,
   "metadata": {
    "collapsed": true
   },
   "outputs": [],
   "source": [
    "voice_feat_importance = [('voice_all_opp_len_12', 79), ('voice_all_opp_len_15', 49), ('voice_all_in_out_0_rate', 47), ('voice_all_opp_head_many_head', 44), ('voice_all_opp_head_many_head_cnt_rate', 36), ('voice_all_start_time_hour_7', 35), ('voice_all_end_time_hour_7_rate', 34), ('voice_all_start_time_first', 34), ('voice_all_start_time_hour_8_rate', 26), ('voice_all_diff_time_max', 26), ('voice_all_opp_len_5', 26), ('voice_all_opp_head_many_head_cnt_rate_unique', 25), ('voice_all_start_time_hour_7_rate', 25), ('voice_all_diff_time_avg', 24), ('voice_all_unique_cnt', 22), ('voice_all_per_opp_rate', 22), ('voice_all_call_type_1_rate', 21), ('voice_all_start_time_minute_29_rate', 20)]\n",
    "\n",
    "sms_feat_importance = [('sms_all_opp_head_many_head', 152), ('sms_all_opp_len_13', 79), ('sms_all_opp_head_little_head', 66), ('sms_all_in_out_0_rate', 65), ('sms_all_start_time_avg', 59), ('sms_all_start_time_first', 58), ('sms_all_opp_len_9', 54), ('sms_all_start_time_last', 54), ('sms_all_opp_len_11_rate', 53), ('sms_all_start_time_skew', 49), ('sms_all_per_opp_rate', 43), ('sms_all_start_time_last_start_time_first_diff_rate', 40), ('sms_all_opp_head_many_head_cnt_rate', 40), ('sms_all_in_out_1', 37), ('sms_all_unique_cnt', 36), ('sms_all_start_time_day_33_rate', 36), ('sms_all_start_time_sum', 35), ('sms_all_in_out_1_rate', 34), ('sms_all_start_time_hour_19_rate', 33), ('sms_all_start_time_hour_17_rate', 33), ('sms_all_start_time_day_6_rate', 32), ('sms_all_start_time_hour_20_rate', 30), ('sms_all_opp_head_many_head_cnt_rate_unique', 30), ('sms_all_start_time_std', 30), ('sms_all_start_time_fd', 30), ('sms_all_start_time_hour_23_rate', 29), ('sms_all_opp_len_11', 28), ('sms_all_start_time_hour_10_rate', 28), ('sms_all_start_time_second_54_rate', 28), ('sms_all_start_time_hour_9_rate', 27), ('sms_all_start_time_hour_18_rate', 27), ('sms_all_start_time_last_start_time_first_diff', 27), ('sms_all_start_time_hour_7_rate', 27), ('sms_all_start_time_second_23_rate', 27), ('sms_all_start_time_hour_22_rate', 26), ('sms_all_in_out_0', 25), ('sms_all_start_time_minute_38_rate', 23), ('sms_all_start_time_minute_48_rate', 23), ('sms_all_start_time_second_2_rate', 23), ('sms_all_start_time_hour_16_rate', 23), ('sms_all_start_time_second_21_rate', 22), ('sms_all_start_time_minute_36_rate', 21), ('sms_all_start_time_hour_0_rate', 21), ('sms_all_start_time_day_39_rate', 21), ('sms_all_start_time_day_44_rate', 21), ('sms_all_start_time_hour_15_rate', 21), ('sms_all_start_time_hour_11_rate', 20)]\n",
    "\n",
    "wa_feat_importance = [('wa_all_in_out_0_rate', 38), ('wa_all_visit_cnt_all_cnt_std_rate', 27), ('wa_all_visit_dura_div_visit_cnt_avg', 22), ('wa_all_date_count_std', 21), ('wa_all_up_flow_wa_type_0_skew_rate', 21), ('wa_all_visit_cnt_date_sum_skew', 21), ('wa_all_up_flow_date_42_sum_rate', 20)]\n",
    "\n"
   ]
  },
  {
   "cell_type": "code",
   "execution_count": 54,
   "metadata": {},
   "outputs": [
    {
     "data": {
      "text/plain": [
       "18"
      ]
     },
     "execution_count": 54,
     "metadata": {},
     "output_type": "execute_result"
    }
   ],
   "source": [
    "voice_feats = [d[0] for d in voice_feat_importance]\n",
    "\n",
    "len(voice_feats)"
   ]
  },
  {
   "cell_type": "code",
   "execution_count": 55,
   "metadata": {},
   "outputs": [
    {
     "data": {
      "text/plain": [
       "47"
      ]
     },
     "execution_count": 55,
     "metadata": {},
     "output_type": "execute_result"
    }
   ],
   "source": [
    "sms_feats = [d[0] for d in sms_feat_importance]\n",
    "\n",
    "len(sms_feats)"
   ]
  },
  {
   "cell_type": "code",
   "execution_count": 56,
   "metadata": {},
   "outputs": [
    {
     "data": {
      "text/plain": [
       "7"
      ]
     },
     "execution_count": 56,
     "metadata": {},
     "output_type": "execute_result"
    }
   ],
   "source": [
    "wa_feats = [d[0] for d in wa_feat_importance]\n",
    "\n",
    "len(wa_feats)"
   ]
  },
  {
   "cell_type": "code",
   "execution_count": 57,
   "metadata": {
    "collapsed": true
   },
   "outputs": [],
   "source": [
    "df_train_voice_sms_wa = pd.DataFrame(data={'uid':df_train_voice['uid']})\n",
    "\n",
    "df_testB_voice_sms_wa = pd.DataFrame(data={'uid':df_testB_voice['uid']})\n",
    "\n",
    "df_testA_voice_sms_wa = pd.DataFrame(data={'uid':df_testA_voice['uid']})\n"
   ]
  },
  {
   "cell_type": "code",
   "execution_count": 58,
   "metadata": {},
   "outputs": [],
   "source": [
    "# 强强组合，想成特征和sigmoid的特征\n",
    "\n",
    "for i in range(len(voice_feats)):\n",
    "    for j in range(len(sms_feats)):\n",
    "        df_train_voice_sms_wa[voice_feats[i]+'_'+sms_feats[j]] = df_train_voice[voice_feats[i]] * df_train_sms[sms_feats[j]]\n",
    "\n",
    "\n",
    "for i in range(len(sms_feats)):\n",
    "    for j in range(len(wa_feats)):\n",
    "        df_train_voice_sms_wa[sms_feats[i]+'_'+wa_feats[j]] = df_train_sms[sms_feats[i]] * df_train_wa[wa_feats[j]]\n",
    "\n",
    "for i in range(len(voice_feats)):\n",
    "    for j in range(len(wa_feats)):\n",
    "        df_train_voice_sms_wa[voice_feats[i]+'_'+wa_feats[j]] = df_train_voice[voice_feats[i]] * df_train_wa[wa_feats[j]]\n",
    "\n",
    "        \n"
   ]
  },
  {
   "cell_type": "code",
   "execution_count": 59,
   "metadata": {},
   "outputs": [],
   "source": [
    "# 强强组合，想成特征和sigmoid的特征\n",
    "for i in range(len(voice_feats)):\n",
    "    for j in range(len(sms_feats)):\n",
    "        df_testB_voice_sms_wa[voice_feats[i]+'_'+sms_feats[j]] = df_testB_voice[voice_feats[i]] * df_testB_sms[sms_feats[j]]\n",
    "\n",
    "\n",
    "for i in range(len(sms_feats)):\n",
    "    for j in range(len(wa_feats)):\n",
    "        df_testB_voice_sms_wa[sms_feats[i]+'_'+wa_feats[j]] = df_testB_sms[sms_feats[i]] * df_testB_wa[wa_feats[j]]\n",
    "\n",
    "for i in range(len(voice_feats)):\n",
    "    for j in range(len(wa_feats)):\n",
    "        df_testB_voice_sms_wa[voice_feats[i]+'_'+wa_feats[j]] = df_testB_voice[voice_feats[i]] * df_testB_wa[wa_feats[j]]\n",
    "\n",
    "        \n"
   ]
  },
  {
   "cell_type": "code",
   "execution_count": null,
   "metadata": {
    "collapsed": true
   },
   "outputs": [],
   "source": [
    "# 强强组合，想成特征和sigmoid的特征\n",
    "for i in range(len(voice_feats)):\n",
    "    for j in range(len(sms_feats)):\n",
    "        df_testA_voice_sms_wa[voice_feats[i]+'_'+sms_feats[j]] = df_testA_voice[voice_feats[i]] * df_testA_sms[sms_feats[j]]\n",
    "\n",
    "\n",
    "for i in range(len(sms_feats)):\n",
    "    for j in range(len(wa_feats)):\n",
    "        df_testA_voice_sms_wa[sms_feats[i]+'_'+wa_feats[j]] = df_testA_sms[sms_feats[i]] * df_testA_wa[wa_feats[j]]\n",
    "\n",
    "for i in range(len(voice_feats)):\n",
    "    for j in range(len(wa_feats)):\n",
    "        df_testA_voice_sms_wa[voice_feats[i]+'_'+wa_feats[j]] = df_testA_voice[voice_feats[i]] * df_testA_wa[wa_feats[j]]\n",
    "\n",
    "        \n"
   ]
  },
  {
   "cell_type": "code",
   "execution_count": 48,
   "metadata": {},
   "outputs": [
    {
     "name": "stdout",
     "output_type": "stream",
     "text": [
      "<class 'pandas.core.frame.DataFrame'>\n",
      "RangeIndex: 4999 entries, 0 to 4998\n",
      "Columns: 1302 entries, uid to voice_all_start_time_minute_29_rate_wa_all_up_flow_date_42_sum_rate\n",
      "dtypes: float64(1301), object(1)\n",
      "memory usage: 49.7+ MB\n"
     ]
    },
    {
     "data": {
      "text/html": [
       "<div>\n",
       "<style>\n",
       "    .dataframe thead tr:only-child th {\n",
       "        text-align: right;\n",
       "    }\n",
       "\n",
       "    .dataframe thead th {\n",
       "        text-align: left;\n",
       "    }\n",
       "\n",
       "    .dataframe tbody tr th {\n",
       "        vertical-align: top;\n",
       "    }\n",
       "</style>\n",
       "<table border=\"1\" class=\"dataframe\">\n",
       "  <thead>\n",
       "    <tr style=\"text-align: right;\">\n",
       "      <th></th>\n",
       "      <th>uid</th>\n",
       "      <th>voice_all_opp_len_12_sms_all_opp_head_many_head</th>\n",
       "      <th>voice_all_opp_len_12_sms_all_opp_len_13</th>\n",
       "      <th>voice_all_opp_len_12_sms_all_opp_head_little_head</th>\n",
       "      <th>voice_all_opp_len_12_sms_all_in_out_0_rate</th>\n",
       "      <th>voice_all_opp_len_12_sms_all_start_time_avg</th>\n",
       "      <th>voice_all_opp_len_12_sms_all_start_time_first</th>\n",
       "      <th>voice_all_opp_len_12_sms_all_opp_len_9</th>\n",
       "      <th>voice_all_opp_len_12_sms_all_start_time_last</th>\n",
       "      <th>voice_all_opp_len_12_sms_all_opp_len_11_rate</th>\n",
       "      <th>...</th>\n",
       "      <th>voice_all_call_type_1_rate_wa_all_up_flow_wa_type_0_skew_rate</th>\n",
       "      <th>voice_all_call_type_1_rate_wa_all_visit_cnt_date_sum_skew</th>\n",
       "      <th>voice_all_call_type_1_rate_wa_all_up_flow_date_42_sum_rate</th>\n",
       "      <th>voice_all_start_time_minute_29_rate_wa_all_in_out_0_rate</th>\n",
       "      <th>voice_all_start_time_minute_29_rate_wa_all_visit_cnt_all_cnt_std_rate</th>\n",
       "      <th>voice_all_start_time_minute_29_rate_wa_all_visit_dura_div_visit_cnt_avg</th>\n",
       "      <th>voice_all_start_time_minute_29_rate_wa_all_date_count_std</th>\n",
       "      <th>voice_all_start_time_minute_29_rate_wa_all_up_flow_wa_type_0_skew_rate</th>\n",
       "      <th>voice_all_start_time_minute_29_rate_wa_all_visit_cnt_date_sum_skew</th>\n",
       "      <th>voice_all_start_time_minute_29_rate_wa_all_up_flow_date_42_sum_rate</th>\n",
       "    </tr>\n",
       "  </thead>\n",
       "  <tbody>\n",
       "    <tr>\n",
       "      <th>0</th>\n",
       "      <td>u0001</td>\n",
       "      <td>260.0</td>\n",
       "      <td>0.0</td>\n",
       "      <td>300.0</td>\n",
       "      <td>0.821053</td>\n",
       "      <td>6.215652e+07</td>\n",
       "      <td>6463872.0</td>\n",
       "      <td>20.0</td>\n",
       "      <td>90280250.0</td>\n",
       "      <td>1.578947</td>\n",
       "      <td>...</td>\n",
       "      <td>1.019850</td>\n",
       "      <td>1.790720</td>\n",
       "      <td>0.096675</td>\n",
       "      <td>0.000000</td>\n",
       "      <td>0.000000</td>\n",
       "      <td>0.000000</td>\n",
       "      <td>0.000000</td>\n",
       "      <td>0.000000</td>\n",
       "      <td>0.000000</td>\n",
       "      <td>0.000000</td>\n",
       "    </tr>\n",
       "    <tr>\n",
       "      <th>1</th>\n",
       "      <td>u0002</td>\n",
       "      <td>0.0</td>\n",
       "      <td>0.0</td>\n",
       "      <td>0.0</td>\n",
       "      <td>0.000000</td>\n",
       "      <td>0.000000e+00</td>\n",
       "      <td>0.0</td>\n",
       "      <td>0.0</td>\n",
       "      <td>0.0</td>\n",
       "      <td>0.000000</td>\n",
       "      <td>...</td>\n",
       "      <td>1.000000</td>\n",
       "      <td>1.345354</td>\n",
       "      <td>0.000000</td>\n",
       "      <td>0.000000</td>\n",
       "      <td>0.000000</td>\n",
       "      <td>0.000000</td>\n",
       "      <td>0.000000</td>\n",
       "      <td>0.000000</td>\n",
       "      <td>0.000000</td>\n",
       "      <td>0.000000</td>\n",
       "    </tr>\n",
       "    <tr>\n",
       "      <th>2</th>\n",
       "      <td>u0003</td>\n",
       "      <td>0.0</td>\n",
       "      <td>0.0</td>\n",
       "      <td>0.0</td>\n",
       "      <td>0.000000</td>\n",
       "      <td>0.000000e+00</td>\n",
       "      <td>0.0</td>\n",
       "      <td>0.0</td>\n",
       "      <td>0.0</td>\n",
       "      <td>0.000000</td>\n",
       "      <td>...</td>\n",
       "      <td>0.810455</td>\n",
       "      <td>5.090600</td>\n",
       "      <td>0.090062</td>\n",
       "      <td>0.000000</td>\n",
       "      <td>0.000000</td>\n",
       "      <td>0.000000</td>\n",
       "      <td>0.000000</td>\n",
       "      <td>0.000000</td>\n",
       "      <td>0.000000</td>\n",
       "      <td>0.000000</td>\n",
       "    </tr>\n",
       "    <tr>\n",
       "      <th>3</th>\n",
       "      <td>u0004</td>\n",
       "      <td>2730.0</td>\n",
       "      <td>0.0</td>\n",
       "      <td>21.0</td>\n",
       "      <td>3.217742</td>\n",
       "      <td>4.542770e+08</td>\n",
       "      <td>23850750.0</td>\n",
       "      <td>378.0</td>\n",
       "      <td>947583357.0</td>\n",
       "      <td>16.935484</td>\n",
       "      <td>...</td>\n",
       "      <td>1.037104</td>\n",
       "      <td>0.465707</td>\n",
       "      <td>0.023654</td>\n",
       "      <td>0.012861</td>\n",
       "      <td>0.001030</td>\n",
       "      <td>20.529519</td>\n",
       "      <td>0.269270</td>\n",
       "      <td>0.019029</td>\n",
       "      <td>0.008545</td>\n",
       "      <td>0.000434</td>\n",
       "    </tr>\n",
       "    <tr>\n",
       "      <th>4</th>\n",
       "      <td>u0005</td>\n",
       "      <td>0.0</td>\n",
       "      <td>0.0</td>\n",
       "      <td>0.0</td>\n",
       "      <td>0.000000</td>\n",
       "      <td>0.000000e+00</td>\n",
       "      <td>0.0</td>\n",
       "      <td>0.0</td>\n",
       "      <td>0.0</td>\n",
       "      <td>0.000000</td>\n",
       "      <td>...</td>\n",
       "      <td>0.298388</td>\n",
       "      <td>1.941149</td>\n",
       "      <td>0.001359</td>\n",
       "      <td>0.015169</td>\n",
       "      <td>0.001607</td>\n",
       "      <td>21.828678</td>\n",
       "      <td>0.230154</td>\n",
       "      <td>0.005248</td>\n",
       "      <td>0.034141</td>\n",
       "      <td>0.000024</td>\n",
       "    </tr>\n",
       "  </tbody>\n",
       "</table>\n",
       "<p>5 rows × 1302 columns</p>\n",
       "</div>"
      ],
      "text/plain": [
       "     uid  voice_all_opp_len_12_sms_all_opp_head_many_head  \\\n",
       "0  u0001                                            260.0   \n",
       "1  u0002                                              0.0   \n",
       "2  u0003                                              0.0   \n",
       "3  u0004                                           2730.0   \n",
       "4  u0005                                              0.0   \n",
       "\n",
       "   voice_all_opp_len_12_sms_all_opp_len_13  \\\n",
       "0                                      0.0   \n",
       "1                                      0.0   \n",
       "2                                      0.0   \n",
       "3                                      0.0   \n",
       "4                                      0.0   \n",
       "\n",
       "   voice_all_opp_len_12_sms_all_opp_head_little_head  \\\n",
       "0                                              300.0   \n",
       "1                                                0.0   \n",
       "2                                                0.0   \n",
       "3                                               21.0   \n",
       "4                                                0.0   \n",
       "\n",
       "   voice_all_opp_len_12_sms_all_in_out_0_rate  \\\n",
       "0                                    0.821053   \n",
       "1                                    0.000000   \n",
       "2                                    0.000000   \n",
       "3                                    3.217742   \n",
       "4                                    0.000000   \n",
       "\n",
       "   voice_all_opp_len_12_sms_all_start_time_avg  \\\n",
       "0                                 6.215652e+07   \n",
       "1                                 0.000000e+00   \n",
       "2                                 0.000000e+00   \n",
       "3                                 4.542770e+08   \n",
       "4                                 0.000000e+00   \n",
       "\n",
       "   voice_all_opp_len_12_sms_all_start_time_first  \\\n",
       "0                                      6463872.0   \n",
       "1                                            0.0   \n",
       "2                                            0.0   \n",
       "3                                     23850750.0   \n",
       "4                                            0.0   \n",
       "\n",
       "   voice_all_opp_len_12_sms_all_opp_len_9  \\\n",
       "0                                    20.0   \n",
       "1                                     0.0   \n",
       "2                                     0.0   \n",
       "3                                   378.0   \n",
       "4                                     0.0   \n",
       "\n",
       "   voice_all_opp_len_12_sms_all_start_time_last  \\\n",
       "0                                    90280250.0   \n",
       "1                                           0.0   \n",
       "2                                           0.0   \n",
       "3                                   947583357.0   \n",
       "4                                           0.0   \n",
       "\n",
       "   voice_all_opp_len_12_sms_all_opp_len_11_rate  \\\n",
       "0                                      1.578947   \n",
       "1                                      0.000000   \n",
       "2                                      0.000000   \n",
       "3                                     16.935484   \n",
       "4                                      0.000000   \n",
       "\n",
       "                                  ...                                   \\\n",
       "0                                 ...                                    \n",
       "1                                 ...                                    \n",
       "2                                 ...                                    \n",
       "3                                 ...                                    \n",
       "4                                 ...                                    \n",
       "\n",
       "   voice_all_call_type_1_rate_wa_all_up_flow_wa_type_0_skew_rate  \\\n",
       "0                                           1.019850               \n",
       "1                                           1.000000               \n",
       "2                                           0.810455               \n",
       "3                                           1.037104               \n",
       "4                                           0.298388               \n",
       "\n",
       "   voice_all_call_type_1_rate_wa_all_visit_cnt_date_sum_skew  \\\n",
       "0                                           1.790720           \n",
       "1                                           1.345354           \n",
       "2                                           5.090600           \n",
       "3                                           0.465707           \n",
       "4                                           1.941149           \n",
       "\n",
       "   voice_all_call_type_1_rate_wa_all_up_flow_date_42_sum_rate  \\\n",
       "0                                           0.096675            \n",
       "1                                           0.000000            \n",
       "2                                           0.090062            \n",
       "3                                           0.023654            \n",
       "4                                           0.001359            \n",
       "\n",
       "   voice_all_start_time_minute_29_rate_wa_all_in_out_0_rate  \\\n",
       "0                                           0.000000          \n",
       "1                                           0.000000          \n",
       "2                                           0.000000          \n",
       "3                                           0.012861          \n",
       "4                                           0.015169          \n",
       "\n",
       "   voice_all_start_time_minute_29_rate_wa_all_visit_cnt_all_cnt_std_rate  \\\n",
       "0                                           0.000000                       \n",
       "1                                           0.000000                       \n",
       "2                                           0.000000                       \n",
       "3                                           0.001030                       \n",
       "4                                           0.001607                       \n",
       "\n",
       "   voice_all_start_time_minute_29_rate_wa_all_visit_dura_div_visit_cnt_avg  \\\n",
       "0                                           0.000000                         \n",
       "1                                           0.000000                         \n",
       "2                                           0.000000                         \n",
       "3                                          20.529519                         \n",
       "4                                          21.828678                         \n",
       "\n",
       "   voice_all_start_time_minute_29_rate_wa_all_date_count_std  \\\n",
       "0                                           0.000000           \n",
       "1                                           0.000000           \n",
       "2                                           0.000000           \n",
       "3                                           0.269270           \n",
       "4                                           0.230154           \n",
       "\n",
       "   voice_all_start_time_minute_29_rate_wa_all_up_flow_wa_type_0_skew_rate  \\\n",
       "0                                           0.000000                        \n",
       "1                                           0.000000                        \n",
       "2                                           0.000000                        \n",
       "3                                           0.019029                        \n",
       "4                                           0.005248                        \n",
       "\n",
       "   voice_all_start_time_minute_29_rate_wa_all_visit_cnt_date_sum_skew  \\\n",
       "0                                           0.000000                    \n",
       "1                                           0.000000                    \n",
       "2                                           0.000000                    \n",
       "3                                           0.008545                    \n",
       "4                                           0.034141                    \n",
       "\n",
       "   voice_all_start_time_minute_29_rate_wa_all_up_flow_date_42_sum_rate  \n",
       "0                                           0.000000                    \n",
       "1                                           0.000000                    \n",
       "2                                           0.000000                    \n",
       "3                                           0.000434                    \n",
       "4                                           0.000024                    \n",
       "\n",
       "[5 rows x 1302 columns]"
      ]
     },
     "execution_count": 48,
     "metadata": {},
     "output_type": "execute_result"
    }
   ],
   "source": [
    "df_train_voice_sms_wa.info()\n",
    "df_train_voice_sms_wa.head()"
   ]
  },
  {
   "cell_type": "code",
   "execution_count": 49,
   "metadata": {},
   "outputs": [
    {
     "ename": "NameError",
     "evalue": "name 'df_testB_voice_sms_wa' is not defined",
     "output_type": "error",
     "traceback": [
      "\u001b[0;31m---------------------------------------------------------------------------\u001b[0m",
      "\u001b[0;31mNameError\u001b[0m                                 Traceback (most recent call last)",
      "\u001b[0;32m<ipython-input-49-7130b6557940>\u001b[0m in \u001b[0;36m<module>\u001b[0;34m()\u001b[0m\n\u001b[1;32m      1\u001b[0m \u001b[0mdf_train_voice_sms_wa\u001b[0m\u001b[0;34m.\u001b[0m\u001b[0mto_csv\u001b[0m\u001b[0;34m(\u001b[0m\u001b[0;34m'../sdata/df_train_voice_sms_wa_feat.csv'\u001b[0m\u001b[0;34m,\u001b[0m\u001b[0mindex\u001b[0m\u001b[0;34m=\u001b[0m\u001b[0mFalse\u001b[0m\u001b[0;34m)\u001b[0m\u001b[0;34m\u001b[0m\u001b[0m\n\u001b[1;32m      2\u001b[0m \u001b[0;34m\u001b[0m\u001b[0m\n\u001b[0;32m----> 3\u001b[0;31m \u001b[0mdf_testB_voice_sms_wa\u001b[0m\u001b[0;34m.\u001b[0m\u001b[0mto_csv\u001b[0m\u001b[0;34m(\u001b[0m\u001b[0;34m'../sdata/df_testB_voice_sms_wa_feat.csv'\u001b[0m\u001b[0;34m,\u001b[0m\u001b[0mindex\u001b[0m\u001b[0;34m=\u001b[0m\u001b[0mFalse\u001b[0m\u001b[0;34m)\u001b[0m\u001b[0;34m\u001b[0m\u001b[0m\n\u001b[0m",
      "\u001b[0;31mNameError\u001b[0m: name 'df_testB_voice_sms_wa' is not defined"
     ]
    }
   ],
   "source": [
    "df_train_voice_sms_wa.to_csv('../sdata/df_train_voice_sms_wa_feat.csv',index=False)\n",
    "\n",
    "df_testB_voice_sms_wa.to_csv('../sdata/df_testB_voice_sms_wa_feat.csv',index=False)\n",
    "\n",
    "df_testA_voice_sms_wa.to_csv('../sdata/df_testA_voice_sms_wa_feat.csv',index=False)\n"
   ]
  },
  {
   "cell_type": "code",
   "execution_count": null,
   "metadata": {
    "collapsed": true
   },
   "outputs": [],
   "source": []
  }
 ],
 "metadata": {
  "kernelspec": {
   "display_name": "Python 2",
   "language": "python",
   "name": "python2"
  },
  "language_info": {
   "codemirror_mode": {
    "name": "ipython",
    "version": 2
   },
   "file_extension": ".py",
   "mimetype": "text/x-python",
   "name": "python",
   "nbconvert_exporter": "python",
   "pygments_lexer": "ipython2",
   "version": "2.7.13"
  }
 },
 "nbformat": 4,
 "nbformat_minor": 2
}
