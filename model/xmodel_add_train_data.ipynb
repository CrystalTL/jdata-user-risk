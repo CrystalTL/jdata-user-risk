{
 "cells": [
  {
   "cell_type": "code",
   "execution_count": 1,
   "metadata": {
    "collapsed": true
   },
   "outputs": [],
   "source": [
    "import numpy as np\n",
    "import pandas as pd\n",
    "import scipy as sp\n",
    "import matplotlib.pyplot as plt\n",
    "\n",
    "from sklearn.model_selection import train_test_split\n",
    "from sklearn.metrics import roc_auc_score, f1_score\n",
    "\n",
    "import xgboost as xgb"
   ]
  },
  {
   "cell_type": "markdown",
   "metadata": {},
   "source": [
    "### 使用数据集A增加训练数据\n",
    "\n",
    "1. 使用前200个作为label 1增加训练数据的征集\n",
    "2. 因为训练的时候出现了过拟合问题\n",
    "3. 使用小的深度和小的迭代次数，避免过拟合"
   ]
  },
  {
   "cell_type": "code",
   "execution_count": 2,
   "metadata": {
    "collapsed": true
   },
   "outputs": [],
   "source": [
    "def diff_time(a,b):\n",
    "    a_day, a_hour, a_minute, a_second = (a / 1000000, a / 10000 % 100, a / 100 % 100, a % 100)\n",
    "    b_day, b_hour, b_minute, b_second = (b / 1000000, b / 10000 % 100, b / 100 % 100, b % 100)\n",
    "    \n",
    "    d_day = b_day - a_day\n",
    "    d_hour = b_hour - a_hour\n",
    "    d_minute = b_minute - a_minute\n",
    "    d_second = b_second - a_second\n",
    "    \n",
    "    diff = d_day * 24 * 60 * 60 + d_hour * 60 * 60 + d_minute * 60 + d_second\n",
    "    return diff\n",
    "\n",
    "def get_diff_time(x):\n",
    "    diff_t = []\n",
    "    for d in x:\n",
    "#         print d\n",
    "        diff_t.append(diff_time(d[0],d[1]))\n",
    "    return diff_t"
   ]
  },
  {
   "cell_type": "code",
   "execution_count": 9,
   "metadata": {
    "collapsed": true
   },
   "outputs": [],
   "source": [
    "def get_data(Type='B'):\n",
    "    df_train_voice_feat = pd.read_csv('../xdata/df_train_voice_feat.csv')\n",
    "    if Type=='B':\n",
    "        df_test_voice_feat = pd.read_csv('../xdata/df_testB_voice_feat.csv')\n",
    "    else:\n",
    "        df_test_voice_feat = pd.read_csv('../xdata/df_testA_voice_feat.csv')\n",
    "        \n",
    "    df_train_sms_feat = pd.read_csv('../xdata/df_train_sms_feat.csv')\n",
    "    if Type=='B':\n",
    "        df_test_sms_feat = pd.read_csv('../xdata/df_testB_sms_feat.csv')\n",
    "    else:\n",
    "        df_test_sms_feat = pd.read_csv('../xdata/df_testA_sms_feat.csv')\n",
    "        \n",
    "    df_train_sms_feat.drop('label',axis=1,inplace=True)\n",
    "    \n",
    "    df_train_wa_feat = pd.read_csv('../xdata/df_train_wa_feat.csv')\n",
    "    if Type=='B':\n",
    "        df_test_wa_feat = pd.read_csv('../xdata/df_testB_wa_feat.csv')\n",
    "    else:\n",
    "        df_test_wa_feat = pd.read_csv('../xdata/df_testA_wa_feat.csv')\n",
    "        \n",
    "    df_train_wa_feat.drop('label',axis=1,inplace=True)\n",
    "    \n",
    "#     df_train_voice_sms_feat = pd.read_csv('../xdata/df_train_voice_sms_feat.csv')\n",
    "#     df_test_voice_sms_feat = pd.read_csv('../xdata/df_testB_voice_sms_feat.csv')\n",
    "#     df_train_voice_sms_feat.drop('label',axis=1,inplace=True)\n",
    "    \n",
    "    \n",
    "    df_train = pd.merge(df_train_voice_feat, df_train_sms_feat, on='uid', how='left')\n",
    "    df_test = pd.merge(df_test_voice_feat, df_test_sms_feat, on='uid', how='left')\n",
    "    \n",
    "    df_train = pd.merge(df_train, df_train_wa_feat, on='uid', how='left')\n",
    "    df_test = pd.merge(df_test, df_test_wa_feat, on='uid', how='left')\n",
    "    \n",
    "#     df_train = pd.merge(df_train, df_train_voice_sms_feat, on='uid', how='left')\n",
    "#     df_test = pd.merge(df_test, df_test_voice_sms_feat, on='uid', how='left')\n",
    "    \n",
    "    \n",
    "    df_train.replace([np.inf,-np.inf], 0, inplace=True)\n",
    "    df_test.replace([np.inf,-np.inf], 0, inplace=True)\n",
    "\n",
    "    df_train.fillna(0,inplace=True)\n",
    "    df_test.fillna(0,inplace=True)\n",
    "\n",
    "    \n",
    "    # 组合特征\n",
    "    # voice_all_start_time_first\n",
    "    # voice_all_start_time_last \n",
    "    # voice_all_end_time_first\n",
    "    # voice_all_end_time_last\n",
    "    \n",
    "    # sms_all_start_time_last\n",
    "    # sms_all_start_time_first\n",
    "    for sms_time in ['sms_all_start_time_first', 'sms_all_start_time_last']:\n",
    "        df_train[sms_time] = df_train[sms_time].astype(int)\n",
    "        df_test[sms_time] = df_test[sms_time].astype(int)\n",
    "        \n",
    "        for voice_time in ['voice_all_start_time_first','voice_all_start_time_last','voice_all_end_time_first','voice_all_end_time_last']:\n",
    "            df_train[voice_time] = df_train[voice_time].astype(int)\n",
    "            df_test[voice_time] = df_test[voice_time].astype(int)\n",
    "        \n",
    "            df_train[sms_time+'_'+voice_time] = get_diff_time(df_train[[sms_time,voice_time]].values)\n",
    "            df_test[sms_time+'_'+voice_time] = get_diff_time(df_test[[sms_time,voice_time]].values)\n",
    "            \n",
    "            # 除以对应的不同的次数，\n",
    "            df_train[sms_time+'_'+voice_time+'_voice_rate'] = df_train[sms_time+'_'+voice_time] / df_train['voice_all_cnt']\n",
    "            df_test[sms_time+'_'+voice_time+'_voice_rate'] = df_test[sms_time+'_'+voice_time] / df_test['voice_all_cnt']\n",
    "    \n",
    "            df_train[sms_time+'_'+voice_time+'_sms_rate'] = df_train[sms_time+'_'+voice_time] / df_train['sms_all_cnt']\n",
    "            df_test[sms_time+'_'+voice_time+'_sms_rate'] = df_test[sms_time+'_'+voice_time] / df_test['sms_all_cnt']\n",
    "    \n",
    "    return df_train, df_test\n",
    "    \n",
    "def split_train_valid(df_train,test_size=0.2):\n",
    "    '''\n",
    "    k-fold交叉验证,默认k=10\n",
    "    df_train:训练数据\n",
    "    '''\n",
    "    X_train, X_vali, y_train, y_vali = train_test_split(df_train[features], df_train[label], test_size=test_size, random_state=40000)\n",
    "    #added some parameters\n",
    "    \n",
    "#     dtrain = df_train.iloc[train_list]\n",
    "#     dvali =  df_train.iloc[vali_list]\n",
    "    \n",
    "    dtrain = xgb.DMatrix(X_train,label=y_train)\n",
    "    dvalid = xgb.DMatrix(X_vali,label=y_vali)\n",
    "    watchlist = [(dtrain, 'train'),(dvalid, 'valid')]\n",
    "    \n",
    "    return dtrain, dvalid, watchlist"
   ]
  },
  {
   "cell_type": "code",
   "execution_count": 10,
   "metadata": {},
   "outputs": [
    {
     "name": "stdout",
     "output_type": "stream",
     "text": [
      "<class 'pandas.core.frame.DataFrame'>\n",
      "Int64Index: 2000 entries, 0 to 1999\n",
      "Columns: 2062 entries, uid to sms_all_start_time_last_voice_all_end_time_last_sms_rate\n",
      "dtypes: float64(2043), int64(16), object(3)\n",
      "memory usage: 31.5+ MB\n",
      "2059\n",
      "2059\n"
     ]
    }
   ],
   "source": [
    "# 设置特征数据，去除id数据，不能进行预测\n",
    "df_train, df_test = get_data(Type='A')\n",
    "\n",
    "df_test.info()\n",
    "\n",
    "features = df_test.columns\n",
    "features = list(features)\n",
    "features.remove('uid')\n",
    "features.remove('wa_all_wa_name_little_wite')\n",
    "features.remove('wa_all_wa_name_many_wite')\n",
    "\n",
    "label = 'label'\n",
    "\n",
    "print len(features)\n",
    "\n",
    "features_ = open('features.txt','r').readlines()\n",
    "features_ = [feat.strip() for feat in features_]\n",
    "\n",
    "# features = list(set(features) - set(features_))\n",
    "print len(features)"
   ]
  },
  {
   "cell_type": "code",
   "execution_count": 12,
   "metadata": {
    "collapsed": true
   },
   "outputs": [],
   "source": [
    "seed = 71\n",
    "np.random.seed(seed)\n",
    "param = {'max_depth':5, # 基准是5 \n",
    "         'eta':0.05,\n",
    "         'gamma ':0.1,\n",
    "         'colsample_bytree':0.8, # old 0.8\n",
    "         'subsample':0.8,\n",
    "         'silent':1,\n",
    "         'eval_metric':'auc',\n",
    "         'objective':'binary:logistic',\n",
    "#          'scale_pos_weight':5,\n",
    "         'seed': seed\n",
    "        }\n",
    "\n",
    "ESR = 50\n",
    "nround = 1000"
   ]
  },
  {
   "cell_type": "code",
   "execution_count": 14,
   "metadata": {},
   "outputs": [
    {
     "name": "stdout",
     "output_type": "stream",
     "text": [
      "('LOOP', 0)\n",
      "[0]\ttrain-auc:0.882435\tvalid-auc:0.388889\n",
      "[20]\ttrain-auc:0.958623\tvalid-auc:0.444444\n",
      "[40]\ttrain-auc:0.973491\tvalid-auc:0.444444\n",
      "[60]\ttrain-auc:0.982756\tvalid-auc:0.555556\n",
      "[80]\ttrain-auc:0.990181\tvalid-auc:0.555556\n",
      "[100]\ttrain-auc:0.995221\tvalid-auc:0.555556\n",
      "[119]\ttrain-auc:0.997773\tvalid-auc:0.666667\n",
      "('Valid Mean:---------------------->', 0.06434512)\n",
      "('LOOP', 1)\n",
      "[0]\ttrain-auc:0.893475\tvalid-auc:0.444444\n",
      "[20]\ttrain-auc:0.960427\tvalid-auc:0.555556\n",
      "[40]\ttrain-auc:0.97352\tvalid-auc:0.333333\n",
      "[60]\ttrain-auc:0.982788\tvalid-auc:0.555556\n",
      "[80]\ttrain-auc:0.990651\tvalid-auc:0.555556\n",
      "[100]\ttrain-auc:0.994992\tvalid-auc:0.555556\n",
      "[119]\ttrain-auc:0.997536\tvalid-auc:0.555556\n",
      "('Valid Mean:---------------------->', 0.06812062)\n",
      "('LOOP', 2)\n",
      "[0]\ttrain-auc:0.88957\tvalid-auc:0.388889\n",
      "[20]\ttrain-auc:0.959817\tvalid-auc:0.111111\n",
      "[40]\ttrain-auc:0.975102\tvalid-auc:0.555556\n",
      "[60]\ttrain-auc:0.984706\tvalid-auc:0.555556\n",
      "[80]\ttrain-auc:0.991476\tvalid-auc:0.555556\n",
      "[100]\ttrain-auc:0.995489\tvalid-auc:0.555556\n",
      "[119]\ttrain-auc:0.997943\tvalid-auc:0.555556\n",
      "('Valid Mean:---------------------->', 0.05121695)\n"
     ]
    }
   ],
   "source": [
    "LOOP = 3\n",
    "models = []\n",
    "seeds = [71,73,91]\n",
    "for i in range(LOOP):\n",
    "    print('LOOP',i)\n",
    "#     dbuild, dvalid, watchlist = split_build_valid(df_train)\n",
    "    dbuild, dvalid, watchlist = split_train_valid(df_train,test_size=0.002)\n",
    "    param['seed'] = seeds[i]\n",
    "    nround = 120\n",
    "    model = xgb.train(param, dbuild, nround, watchlist,verbose_eval=20)\n",
    "    models.append(model)\n",
    "#     model.save_model('./model1'+ str(i) + '.model')\n",
    "    # VALID\n",
    "    valid_yhat = model.predict(dvalid,ntree_limit=model.best_iteration)\n",
    "    print('Valid Mean:---------------------->', np.mean(valid_yhat))\n",
    "    del dbuild, dvalid, watchlist\n"
   ]
  },
  {
   "cell_type": "code",
   "execution_count": 38,
   "metadata": {
    "collapsed": true
   },
   "outputs": [],
   "source": [
    "dtest  = xgb.DMatrix(df_test[features])\n",
    "proba_test = pd.DataFrame()\n",
    "proba_test['uid'] = df_test['uid']\n",
    "proba_test['score'] = [0 for i in range(len(df_test))]\n",
    "for model in models:\n",
    "    proba_test['score'] += model.predict(dtest)\n",
    "proba_test['score'] /= LOOP\n",
    "\n",
    "proba_test = proba_test.sort_values('score',ascending=False)\n",
    "proba_test['label'] = [0 for i in range(len(proba_test))]\n",
    "\n",
    "# proba_test[:200]"
   ]
  },
  {
   "cell_type": "code",
   "execution_count": 39,
   "metadata": {},
   "outputs": [],
   "source": [
    "proba_test.loc[proba_test['score']>0.4,'label'] = 1\n"
   ]
  },
  {
   "cell_type": "code",
   "execution_count": 40,
   "metadata": {},
   "outputs": [
    {
     "data": {
      "text/plain": [
       "0    1792\n",
       "1     208\n",
       "Name: label, dtype: int64"
      ]
     },
     "execution_count": 40,
     "metadata": {},
     "output_type": "execute_result"
    }
   ],
   "source": [
    "proba_test['label'].value_counts()"
   ]
  },
  {
   "cell_type": "code",
   "execution_count": 41,
   "metadata": {
    "collapsed": true
   },
   "outputs": [],
   "source": [
    "\n",
    "proba_test[['uid','label']].to_csv('../xdata/df_testA_label.csv',index=False)"
   ]
  },
  {
   "cell_type": "code",
   "execution_count": null,
   "metadata": {
    "collapsed": true
   },
   "outputs": [],
   "source": []
  }
 ],
 "metadata": {
  "kernelspec": {
   "display_name": "Python 2",
   "language": "python",
   "name": "python2"
  },
  "language_info": {
   "codemirror_mode": {
    "name": "ipython",
    "version": 2
   },
   "file_extension": ".py",
   "mimetype": "text/x-python",
   "name": "python",
   "nbconvert_exporter": "python",
   "pygments_lexer": "ipython2",
   "version": "2.7.13"
  }
 },
 "nbformat": 4,
 "nbformat_minor": 2
}
